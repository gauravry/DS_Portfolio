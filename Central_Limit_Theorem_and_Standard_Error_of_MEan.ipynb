{
  "nbformat": 4,
  "nbformat_minor": 0,
  "metadata": {
    "colab": {
      "provenance": [],
      "authorship_tag": "ABX9TyPGzyTznuZZef2ttRflsTX0",
      "include_colab_link": true
    },
    "kernelspec": {
      "name": "python3",
      "display_name": "Python 3"
    },
    "language_info": {
      "name": "python"
    }
  },
  "cells": [
    {
      "cell_type": "markdown",
      "metadata": {
        "id": "view-in-github",
        "colab_type": "text"
      },
      "source": [
        "<a href=\"https://colab.research.google.com/github/gauravry/DS_Portfolio/blob/main/Central_Limit_Theorem_and_Standard_Error_of_MEan.ipynb\" target=\"_parent\"><img src=\"https://colab.research.google.com/assets/colab-badge.svg\" alt=\"Open In Colab\"/></a>"
      ]
    },
    {
      "cell_type": "code",
      "execution_count": 3,
      "metadata": {
        "id": "Ldc9aWe0J6ot"
      },
      "outputs": [],
      "source": [
        "import pandas as pd\n",
        "import numpy as np\n",
        "import matplotlib.pyplot as plt\n",
        "import seaborn as sns\n",
        "\n",
        "hundred_times_throw = np.random.randint(1,7,100)\n",
        "million_times_throw = np.random.randint(1,7,1000000)\n"
      ]
    },
    {
      "cell_type": "code",
      "source": [
        "hundred_times_throw.shape"
      ],
      "metadata": {
        "colab": {
          "base_uri": "https://localhost:8080/"
        },
        "id": "Q_nmbpGvKMHf",
        "outputId": "a2d91a01-260c-4957-9695-5f502381a95e"
      },
      "execution_count": 4,
      "outputs": [
        {
          "output_type": "execute_result",
          "data": {
            "text/plain": [
              "(100,)"
            ]
          },
          "metadata": {},
          "execution_count": 4
        }
      ]
    },
    {
      "cell_type": "code",
      "source": [
        "hundred_times_throw"
      ],
      "metadata": {
        "colab": {
          "base_uri": "https://localhost:8080/"
        },
        "id": "qroQNAyZKQxu",
        "outputId": "f0cbbb5a-86f8-4a3c-b934-c044a5cd08ba"
      },
      "execution_count": 6,
      "outputs": [
        {
          "output_type": "execute_result",
          "data": {
            "text/plain": [
              "array([5, 3, 3, 6, 4, 5, 1, 5, 4, 4, 4, 2, 1, 4, 6, 6, 2, 5, 5, 2, 1, 4,\n",
              "       1, 5, 4, 6, 2, 1, 2, 1, 1, 5, 4, 5, 1, 2, 6, 5, 2, 1, 2, 4, 6, 4,\n",
              "       1, 3, 6, 5, 2, 3, 4, 6, 4, 1, 1, 2, 4, 6, 1, 1, 4, 3, 3, 6, 6, 6,\n",
              "       1, 1, 5, 3, 4, 4, 6, 3, 6, 6, 3, 5, 2, 1, 3, 5, 3, 3, 4, 1, 3, 5,\n",
              "       1, 2, 4, 6, 5, 1, 1, 6, 6, 1, 3, 6])"
            ]
          },
          "metadata": {},
          "execution_count": 6
        }
      ]
    },
    {
      "cell_type": "code",
      "source": [
        "million_times_throw.shape"
      ],
      "metadata": {
        "colab": {
          "base_uri": "https://localhost:8080/"
        },
        "id": "r6DUnHtvKNCV",
        "outputId": "c7b9b3d7-2331-4fc3-f92f-ceefea0844ee"
      },
      "execution_count": 5,
      "outputs": [
        {
          "output_type": "execute_result",
          "data": {
            "text/plain": [
              "(1000000,)"
            ]
          },
          "metadata": {},
          "execution_count": 5
        }
      ]
    },
    {
      "cell_type": "code",
      "source": [
        "million_times_throw = np.random.randint(1,7,1000000)\n",
        "sns.displot(x=million_times_throw,bins=6)"
      ],
      "metadata": {
        "colab": {
          "base_uri": "https://localhost:8080/",
          "height": 523
        },
        "id": "dKt5JZofKU-U",
        "outputId": "3d47069b-852a-4b77-a38e-d51cd8190bb7"
      },
      "execution_count": 8,
      "outputs": [
        {
          "output_type": "execute_result",
          "data": {
            "text/plain": [
              "<seaborn.axisgrid.FacetGrid at 0x7a6183bb70d0>"
            ]
          },
          "metadata": {},
          "execution_count": 8
        },
        {
          "output_type": "display_data",
          "data": {
            "text/plain": [
              "<Figure size 500x500 with 1 Axes>"
            ],
            "image/png": "[encoded data removed]"
          },
          "metadata": {}
        }
      ]
    },
    {
      "cell_type": "markdown",
      "source": [
        "Uniform Distribution\n",
        "Now lets check its mean and standard deviation"
      ],
      "metadata": {
        "id": "RtL8vgUiKek9"
      }
    },
    {
      "cell_type": "code",
      "source": [
        "np.mean(million_times_throw)"
      ],
      "metadata": {
        "colab": {
          "base_uri": "https://localhost:8080/"
        },
        "id": "5KslV6smKkya",
        "outputId": "f3433192-451e-4877-976b-a9c54b2bcb9a"
      },
      "execution_count": 9,
      "outputs": [
        {
          "output_type": "execute_result",
          "data": {
            "text/plain": [
              "3.497719"
            ]
          },
          "metadata": {},
          "execution_count": 9
        }
      ]
    },
    {
      "cell_type": "code",
      "source": [
        "np.std(million_times_throw)"
      ],
      "metadata": {
        "colab": {
          "base_uri": "https://localhost:8080/"
        },
        "id": "qH0tai7_KqSt",
        "outputId": "83572139-819f-4946-e398-6bcd881d6bce"
      },
      "execution_count": 10,
      "outputs": [
        {
          "output_type": "execute_result",
          "data": {
            "text/plain": [
              "1.708037118167811"
            ]
          },
          "metadata": {},
          "execution_count": 10
        }
      ]
    },
    {
      "cell_type": "code",
      "source": [
        "mean_from_sample1 = million_times_throw.reshape(250000,4).mean(axis=1)"
      ],
      "metadata": {
        "id": "eLFiXNb9K6c_"
      },
      "execution_count": 11,
      "outputs": []
    },
    {
      "cell_type": "code",
      "source": [
        "mean_from_sample1"
      ],
      "metadata": {
        "colab": {
          "base_uri": "https://localhost:8080/"
        },
        "id": "CwSnpRDhK6f9",
        "outputId": "d2f9c534-0ea9-4d59-fed5-827d198892b5"
      },
      "execution_count": 12,
      "outputs": [
        {
          "output_type": "execute_result",
          "data": {
            "text/plain": [
              "array([3.75, 4.25, 3.75, ..., 3.5 , 2.75, 4.  ])"
            ]
          },
          "metadata": {},
          "execution_count": 12
        }
      ]
    },
    {
      "cell_type": "code",
      "source": [
        "sns.displot(x=mean_from_sample1,bins=6)"
      ],
      "metadata": {
        "colab": {
          "base_uri": "https://localhost:8080/",
          "height": 524
        },
        "id": "KnEIYCXYK6ix",
        "outputId": "121b4c67-92da-430e-d9b8-3c11bf02838e"
      },
      "execution_count": 13,
      "outputs": [
        {
          "output_type": "execute_result",
          "data": {
            "text/plain": [
              "<seaborn.axisgrid.FacetGrid at 0x7a61caf9e8c0>"
            ]
          },
          "metadata": {},
          "execution_count": 13
        },
        {
          "output_type": "display_data",
          "data": {
            "text/plain": [
              "<Figure size 500x500 with 1 Axes>"
            ],
            "image/png": "[encoded data removed]"
          },
          "metadata": {}
        }
      ]
    },
    {
      "cell_type": "markdown",
      "source": [
        "Mean of samples taken from uniform distribution is normal, this is true for any distribution."
      ],
      "metadata": {
        "id": "qPB_5JBtLJTX"
      }
    },
    {
      "cell_type": "code",
      "source": [
        "Standard Error of Mean"
      ],
      "metadata": {
        "id": "iomji5imK6lW"
      },
      "execution_count": null,
      "outputs": []
    },
    {
      "cell_type": "markdown",
      "source": [],
      "metadata": {
        "id": "-I951XSLLa-f"
      }
    },
    {
      "cell_type": "code",
      "source": [
        "np.mean(mean_from_sample1)"
      ],
      "metadata": {
        "colab": {
          "base_uri": "https://localhost:8080/"
        },
        "id": "tR3RN7qAK6oP",
        "outputId": "844bd804-7a12-4c4a-9ac2-cce37843bd09"
      },
      "execution_count": 14,
      "outputs": [
        {
          "output_type": "execute_result",
          "data": {
            "text/plain": [
              "3.497719"
            ]
          },
          "metadata": {},
          "execution_count": 14
        }
      ]
    },
    {
      "cell_type": "code",
      "source": [
        "np.std(mean_from_sample1)"
      ],
      "metadata": {
        "colab": {
          "base_uri": "https://localhost:8080/"
        },
        "id": "HXyqjF1bK6qt",
        "outputId": "9ec8a4ce-daef-4a5c-b4ae-bb331e80e8bf"
      },
      "execution_count": 16,
      "outputs": [
        {
          "output_type": "execute_result",
          "data": {
            "text/plain": [
              "0.8532690355561955"
            ]
          },
          "metadata": {},
          "execution_count": 16
        }
      ]
    },
    {
      "cell_type": "markdown",
      "source": [
        "Sample size is *4*"
      ],
      "metadata": {
        "id": "Y2x1DD6iN6oj"
      }
    },
    {
      "cell_type": "code",
      "source": [
        "\n",
        "import math\n",
        "se = np.std(million_times_throw) / np.sqrt(4)\n",
        "se"
      ],
      "metadata": {
        "colab": {
          "base_uri": "https://localhost:8080/"
        },
        "id": "XNizNqRZL-kC",
        "outputId": "17bf61f1-618a-4a5f-e60e-44eee09b8489"
      },
      "execution_count": 20,
      "outputs": [
        {
          "output_type": "execute_result",
          "data": {
            "text/plain": [
              "0.8540185590839054"
            ]
          },
          "metadata": {},
          "execution_count": 20
        }
      ]
    },
    {
      "cell_type": "code",
      "source": [
        "mean_from_sample2 = million_times_throw.reshape(10000,100).mean(axis=1)"
      ],
      "metadata": {
        "id": "dFQsyWHmL-nO"
      },
      "execution_count": 22,
      "outputs": []
    },
    {
      "cell_type": "code",
      "source": [
        "np.mean(mean_from_sample2)"
      ],
      "metadata": {
        "colab": {
          "base_uri": "https://localhost:8080/"
        },
        "id": "ILbSPZGKOqNF",
        "outputId": "912cc74a-5338-48a3-f6b2-e395666096f0"
      },
      "execution_count": 23,
      "outputs": [
        {
          "output_type": "execute_result",
          "data": {
            "text/plain": [
              "3.497719"
            ]
          },
          "metadata": {},
          "execution_count": 23
        }
      ]
    },
    {
      "cell_type": "code",
      "source": [
        "np.std(mean_from_sample2)"
      ],
      "metadata": {
        "colab": {
          "base_uri": "https://localhost:8080/"
        },
        "id": "KKq8WI4kOqVZ",
        "outputId": "091dbc0b-b524-47b9-ad15-809aaf199734"
      },
      "execution_count": 24,
      "outputs": [
        {
          "output_type": "execute_result",
          "data": {
            "text/plain": [
              "0.1706458526861992"
            ]
          },
          "metadata": {},
          "execution_count": 24
        }
      ]
    },
    {
      "cell_type": "markdown",
      "source": [
        "Sample size is *100*"
      ],
      "metadata": {
        "id": "wcAB33q7Owzq"
      }
    },
    {
      "cell_type": "code",
      "source": [
        "import math\n",
        "se = np.std(million_times_throw) / np.sqrt(100)\n",
        "se"
      ],
      "metadata": {
        "colab": {
          "base_uri": "https://localhost:8080/"
        },
        "id": "3Svp0EjxOxB7",
        "outputId": "92a055a4-ec33-4c44-e876-de1d989c8bdb"
      },
      "execution_count": 25,
      "outputs": [
        {
          "output_type": "execute_result",
          "data": {
            "text/plain": [
              "0.17080371181678108"
            ]
          },
          "metadata": {},
          "execution_count": 25
        }
      ]
    },
    {
      "cell_type": "code",
      "source": [],
      "metadata": {
        "id": "LaHlXS75OxFP"
      },
      "execution_count": null,
      "outputs": []
    },
    {
      "cell_type": "code",
      "source": [],
      "metadata": {
        "id": "Te0bRHflOxMb"
      },
      "execution_count": null,
      "outputs": []
    }
  ]
}