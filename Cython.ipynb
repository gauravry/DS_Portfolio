{
 "cells": [
  {
   "cell_type": "code",
   "execution_count": 1,
   "id": "7a1be598",
   "metadata": {},
   "outputs": [
    {
     "name": "stdout",
     "output_type": "stream",
     "text": [
      "Requirement already satisfied: cython in c:\\users\\root\\anaconda3\\lib\\site-packages (3.0.10)\n",
      "Note: you may need to restart the kernel to use updated packages.\n"
     ]
    }
   ],
   "source": [
    "pip install cython\n"
   ]
  },
  {
   "cell_type": "code",
   "execution_count": 35,
   "id": "dcb435fc",
   "metadata": {},
   "outputs": [
    {
     "name": "stdout",
     "output_type": "stream",
     "text": [
      "The cython extension is already loaded. To reload it, use:\n",
      "  %reload_ext cython\n"
     ]
    }
   ],
   "source": [
    "%load_ext cython\n"
   ]
  },
  {
   "cell_type": "code",
   "execution_count": 36,
   "id": "18e17c95",
   "metadata": {},
   "outputs": [],
   "source": [
    "import time\n",
    "\n",
    "def timer_decorator(func):\n",
    "    def wrapper(*args, **kwargs):\n",
    "        start_time = time.time()\n",
    "        result = func(*args, **kwargs)\n",
    "        end_time = time.time()\n",
    "        print(f\"Execution time: {end_time - start_time:.6f} seconds\")\n",
    "        return result\n",
    "    return wrapper\n"
   ]
  },
  {
   "cell_type": "code",
   "execution_count": 37,
   "id": "bc785214",
   "metadata": {},
   "outputs": [],
   "source": [
    "%%cython\n",
    "\n",
    "def cython_fibonacci(int n):\n",
    "    cdef int a = 0, b = 1, i\n",
    "    for i in range(n):\n",
    "        a, b = b, a + b\n",
    "    return a\n"
   ]
  },
  {
   "cell_type": "code",
   "execution_count": 38,
   "id": "2c29ba7a",
   "metadata": {},
   "outputs": [
    {
     "name": "stdout",
     "output_type": "stream",
     "text": [
      "Execution time: 0.000000 seconds\n",
      "-1057145216\n"
     ]
    }
   ],
   "source": [
    "# Applying the timer decorator to the Cython function\n",
    "cython_fibonacci = timer_decorator(cython_fibonacci)\n",
    "\n",
    "# Test the Cython-compiled Fibonacci function with timing\n",
    "print(cython_fibonacci(300000000))"
   ]
  },
  {
   "cell_type": "code",
   "execution_count": null,
   "id": "cc32c78e",
   "metadata": {},
   "outputs": [],
   "source": [
    "import time\n",
    "import sys\n",
    "\n",
    "\n",
    "# Step 1: Define the Timer Decorator\n",
    "def timer_decorator(func):\n",
    "    def wrapper(*args, **kwargs):\n",
    "        start_time = time.time()\n",
    "        result = func(*args, **kwargs)\n",
    "        end_time = time.time()\n",
    "        print(f\"Execution time: {end_time - start_time:.6f} seconds\")\n",
    "        return result\n",
    "    return wrapper\n",
    "\n",
    "# Step 2: Define the Fibonacci Function in Python\n",
    "@timer_decorator\n",
    "def fibonacci(n):\n",
    "    a, b = 0, 1\n",
    "    for _ in range(n):\n",
    "        a, b = b, a + b\n",
    "    return n\n",
    "\n",
    "# Step 3: Test the Function and Show Execution Time\n",
    "fibonacci(300000000)  # Output: 832040 (for example) and execution time\n"
   ]
  },
  {
   "cell_type": "code",
   "execution_count": null,
   "id": "9c983eb4",
   "metadata": {},
   "outputs": [],
   "source": []
  }
 ],
 "metadata": {
  "kernelspec": {
   "display_name": "Python 3 (ipykernel)",
   "language": "python",
   "name": "python3"
  },
  "language_info": {
   "codemirror_mode": {
    "name": "ipython",
    "version": 3
   },
   "file_extension": ".py",
   "mimetype": "text/x-python",
   "name": "python",
   "nbconvert_exporter": "python",
   "pygments_lexer": "ipython3",
   "version": "3.11.3"
  }
 },
 "nbformat": 4,
 "nbformat_minor": 5
}
