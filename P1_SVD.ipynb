{
  "nbformat": 4,
  "nbformat_minor": 0,
  "metadata": {
    "colab": {
      "provenance": [],
      "authorship_tag": "ABX9TyNMNWGYE+L91x36drfron8Z",
      "include_colab_link": true
    },
    "kernelspec": {
      "name": "python3",
      "display_name": "Python 3"
    },
    "language_info": {
      "name": "python"
    }
  },
  "cells": [
    {
      "cell_type": "markdown",
      "metadata": {
        "id": "view-in-github",
        "colab_type": "text"
      },
      "source": [
        "<a href=\"https://colab.research.google.com/github/gauravry/DS_Portfolio/blob/main/P1_SVD.ipynb\" target=\"_parent\"><img src=\"https://colab.research.google.com/assets/colab-badge.svg\" alt=\"Open In Colab\"/></a>"
      ]
    },
    {
      "cell_type": "code",
      "execution_count": 1,
      "metadata": {
        "colab": {
          "base_uri": "https://localhost:8080/",
          "height": 406
        },
        "id": "jARVQA8RSR74",
        "outputId": "04f3c256-8610-4935-ef88-41f1e85e7fc7"
      },
      "outputs": [
        {
          "output_type": "display_data",
          "data": {
            "text/plain": [
              "<Figure size 640x480 with 4 Axes>"
            ],
            "image/png": "[encoded data removed]"
          },
          "metadata": {}
        }
      ],
      "source": [
        "import numpy as np\n",
        "import matplotlib.pyplot as plt\n",
        "\n",
        "# Set the seed for reproducibility (optional)\n",
        "np.random.seed(2)\n",
        "\n",
        "# Create a random square matrix of size 10x10\n",
        "random_matrix = np.random.rand(4, 4)\n",
        "\n",
        "# Check if the matrix is invertible\n",
        "if np.linalg.det(random_matrix) != 0:\n",
        "    # If the determinant is non-zero, find the inverse\n",
        "    inverse_matrix = np.linalg.inv(random_matrix)\n",
        "\n",
        "    # Plot the original random matrix\n",
        "    plt.subplot(1, 2, 1)  # 1 row, 2 columns, 1st subplot\n",
        "    plt.title('Random Matrix')\n",
        "    plt.imshow(random_matrix, cmap='viridis')\n",
        "    plt.colorbar()\n",
        "\n",
        "    # Plot the inverse matrix\n",
        "    plt.subplot(1, 2, 2)  # 1 row, 2 columns, 2nd subplot\n",
        "    plt.title('Inverse Matrix')\n",
        "    plt.imshow(inverse_matrix, cmap='viridis')\n",
        "    plt.colorbar()\n",
        "\n",
        "    # Show the plot\n",
        "    plt.show()\n",
        "else:\n",
        "    print(\"The random matrix is singular and does not have an inverse.\")\n"
      ]
    },
    {
      "cell_type": "markdown",
      "source": [
        "Singular Value Decomposition"
      ],
      "metadata": {
        "id": "kZ5Prdl9SYzw"
      }
    },
    {
      "cell_type": "code",
      "source": [
        "U,s,V = np.linalg.svd(random_matrix)"
      ],
      "metadata": {
        "id": "-2B_d_esSXa8"
      },
      "execution_count": 3,
      "outputs": []
    },
    {
      "cell_type": "code",
      "source": [
        "S = np.zeros(np.shape(random_matrix))\n",
        "for i in range(0,len(s)):\n",
        "    S[i,i] = s[i]\n",
        "\n",
        "\n",
        "S"
      ],
      "metadata": {
        "colab": {
          "base_uri": "https://localhost:8080/"
        },
        "id": "F0SLzxUjSXd8",
        "outputId": "d3ac6599-63e6-4623-e08a-5a40edad4f19"
      },
      "execution_count": 5,
      "outputs": [
        {
          "output_type": "execute_result",
          "data": {
            "text/plain": [
              "array([[1.66218864, 0.        , 0.        , 0.        ],\n",
              "       [0.        , 0.57012176, 0.        , 0.        ],\n",
              "       [0.        , 0.        , 0.24476665, 0.        ],\n",
              "       [0.        , 0.        , 0.        , 0.07223037]])"
            ]
          },
          "metadata": {},
          "execution_count": 5
        }
      ]
    },
    {
      "cell_type": "code",
      "source": [
        "reconstucted_matrix = U@S@V\n",
        "\n",
        "plt.subplot(1,2,1)\n",
        "plt.imshow(random_matrix)\n",
        "plt.axis('off')\n",
        "plt.title('Original')\n",
        "\n",
        "plt.subplot(1,2,2)\n",
        "plt.imshow(reconstucted_matrix)\n",
        "plt.axis('off')\n",
        "plt.title('Imange reocnstructed using SVD')\n",
        "\n",
        "plt.show()"
      ],
      "metadata": {
        "colab": {
          "base_uri": "https://localhost:8080/",
          "height": 284
        },
        "id": "p3BvAqZwSXhA",
        "outputId": "6e66c530-9ff7-44f3-ed91-3e95721970d5"
      },
      "execution_count": 6,
      "outputs": [
        {
          "output_type": "display_data",
          "data": {
            "text/plain": [
              "<Figure size 640x480 with 2 Axes>"
            ],
            "image/png": "[encoded data removed]"
          },
          "metadata": {}
        }
      ]
    },
    {
      "cell_type": "code",
      "source": [
        "random_matrix"
      ],
      "metadata": {
        "colab": {
          "base_uri": "https://localhost:8080/"
        },
        "id": "ash20jmhSXkE",
        "outputId": "895d6aaa-8ac7-4350-a41d-02658c1579da"
      },
      "execution_count": 7,
      "outputs": [
        {
          "output_type": "execute_result",
          "data": {
            "text/plain": [
              "array([[0.4359949 , 0.02592623, 0.54966248, 0.43532239],\n",
              "       [0.4203678 , 0.33033482, 0.20464863, 0.61927097],\n",
              "       [0.29965467, 0.26682728, 0.62113383, 0.52914209],\n",
              "       [0.13457995, 0.51357812, 0.18443987, 0.78533515]])"
            ]
          },
          "metadata": {},
          "execution_count": 7
        }
      ]
    },
    {
      "cell_type": "code",
      "source": [
        "reconstucted_matrix"
      ],
      "metadata": {
        "colab": {
          "base_uri": "https://localhost:8080/"
        },
        "id": "MaUJMOvCSXnF",
        "outputId": "73239fe8-0c91-4520-b94f-83506b826bce"
      },
      "execution_count": 8,
      "outputs": [
        {
          "output_type": "execute_result",
          "data": {
            "text/plain": [
              "array([[0.4359949 , 0.02592623, 0.54966248, 0.43532239],\n",
              "       [0.4203678 , 0.33033482, 0.20464863, 0.61927097],\n",
              "       [0.29965467, 0.26682728, 0.62113383, 0.52914209],\n",
              "       [0.13457995, 0.51357812, 0.18443987, 0.78533515]])"
            ]
          },
          "metadata": {},
          "execution_count": 8
        }
      ]
    },
    {
      "cell_type": "code",
      "source": [],
      "metadata": {
        "id": "mSYyTECRSXpw"
      },
      "execution_count": null,
      "outputs": []
    }
  ]
}