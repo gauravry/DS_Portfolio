{
  "nbformat": 4,
  "nbformat_minor": 0,
  "metadata": {
    "colab": {
      "provenance": [],
      "authorship_tag": "ABX9TyP98uSbKaEv/IH1QkQ9wlCi",
      "include_colab_link": true
    },
    "kernelspec": {
      "name": "python3",
      "display_name": "Python 3"
    },
    "language_info": {
      "name": "python"
    }
  },
  "cells": [
    {
      "cell_type": "markdown",
      "metadata": {
        "id": "view-in-github",
        "colab_type": "text"
      },
      "source": [
        "<a href=\"https://colab.research.google.com/github/gauravry/DS_Portfolio/blob/main/Game_Theory.ipynb\" target=\"_parent\"><img src=\"https://colab.research.google.com/assets/colab-badge.svg\" alt=\"Open In Colab\"/></a>"
      ]
    },
    {
      "cell_type": "code",
      "execution_count": 1,
      "metadata": {
        "colab": {
          "base_uri": "https://localhost:8080/"
        },
        "id": "UvXA9lxdVMiN",
        "outputId": "d956810b-415a-406f-ce2f-d352e25f6c99"
      },
      "outputs": [
        {
          "output_type": "stream",
          "name": "stdout",
          "text": [
            "Average Revenue for Firm A:\n",
            "Price 50: $17000.00\n",
            "Price 60: $18000.00\n",
            "Price 70: $15600.00\n",
            "\n",
            "Average Revenue for Firm B:\n",
            "Price 50: $17000.00\n",
            "Price 60: $18000.00\n",
            "Price 70: $15600.00\n"
          ]
        }
      ],
      "source": [
        "import numpy as np\n",
        "import itertools\n",
        "\n",
        "# Parameters\n",
        "price_points = [50, 60, 70]  # Possible prices each firm can choose\n",
        "cost = 30  # Constant marginal cost for both firms\n",
        "num_simulations = 1000  # Number of simulations\n",
        "\n",
        "# Demand function parameters\n",
        "base_demand = 1000\n",
        "price_sensitivity = 10\n",
        "\n",
        "# Market share function\n",
        "def market_share(price_a, price_b):\n",
        "    if price_a < price_b:\n",
        "        return 0.6, 0.4  # Firm A gets 60% of the market\n",
        "    elif price_a > price_b:\n",
        "        return 0.4, 0.6  # Firm B gets 60% of the market\n",
        "    else:\n",
        "        return 0.5, 0.5  # Split market equally\n",
        "\n",
        "# Revenue function\n",
        "def revenue(price, quantity, cost):\n",
        "    return (price - cost) * quantity\n",
        "\n",
        "# Simulate game\n",
        "results = []\n",
        "for _ in range(num_simulations):\n",
        "    simulation_result = []\n",
        "    for price_a, price_b in itertools.product(price_points, repeat=2):\n",
        "        # Calculate demand based on prices\n",
        "        demand_a = base_demand - price_sensitivity * price_a\n",
        "        demand_b = base_demand - price_sensitivity * price_b\n",
        "\n",
        "        # Determine market share\n",
        "        share_a, share_b = market_share(price_a, price_b)\n",
        "\n",
        "        # Calculate quantities sold\n",
        "        quantity_a = demand_a * share_a\n",
        "        quantity_b = demand_b * share_b\n",
        "\n",
        "        # Calculate revenues\n",
        "        revenue_a = revenue(price_a, quantity_a, cost)\n",
        "        revenue_b = revenue(price_b, quantity_b, cost)\n",
        "\n",
        "        simulation_result.append((price_a, price_b, revenue_a, revenue_b))\n",
        "\n",
        "    results.append(simulation_result)\n",
        "\n",
        "# Analyze results\n",
        "average_revenue_a = {price: 0 for price in price_points}\n",
        "average_revenue_b = {price: 0 for price in price_points}\n",
        "\n",
        "for simulation_result in results:\n",
        "    for price_a, price_b, revenue_a, revenue_b in simulation_result:\n",
        "        average_revenue_a[price_a] += revenue_a\n",
        "        average_revenue_b[price_b] += revenue_b\n",
        "\n",
        "for price in price_points:\n",
        "    average_revenue_a[price] /= num_simulations\n",
        "    average_revenue_b[price] /= num_simulations\n",
        "\n",
        "print(\"Average Revenue for Firm A:\")\n",
        "for price in price_points:\n",
        "    print(f\"Price {price}: ${average_revenue_a[price]:.2f}\")\n",
        "\n",
        "print(\"\\nAverage Revenue for Firm B:\")\n",
        "for price in price_points:\n",
        "    print(f\"Price {price}: ${average_revenue_b[price]:.2f}\")\n"
      ]
    }
  ]
}